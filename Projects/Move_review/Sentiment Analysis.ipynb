{
 "cells": [
  {
   "cell_type": "code",
   "execution_count": 143,
   "id": "be0d90d3",
   "metadata": {},
   "outputs": [],
   "source": [
    "import numpy as np\n",
    "import pandas as pd\n",
    "\n",
    "import re\n",
    "import spacy\n",
    "\n",
    "from sklearn.model_selection import train_test_split"
   ]
  },
  {
   "cell_type": "code",
   "execution_count": 144,
   "id": "12a436d5",
   "metadata": {},
   "outputs": [
    {
     "name": "stdout",
     "output_type": "stream",
     "text": [
      "Requirement already satisfied: pandas in /Users/ouafaekarmouda/Documents/Formations/NLP/myenv/lib/python3.9/site-packages (2.0.0)\n",
      "Requirement already satisfied: tzdata>=2022.1 in /Users/ouafaekarmouda/Documents/Formations/NLP/myenv/lib/python3.9/site-packages (from pandas) (2023.3)\n",
      "Requirement already satisfied: numpy>=1.20.3 in /Users/ouafaekarmouda/Documents/Formations/NLP/myenv/lib/python3.9/site-packages (from pandas) (1.23.5)\n",
      "Requirement already satisfied: pytz>=2020.1 in /Users/ouafaekarmouda/Documents/Formations/NLP/myenv/lib/python3.9/site-packages (from pandas) (2023.3)\n",
      "Requirement already satisfied: python-dateutil>=2.8.2 in /Users/ouafaekarmouda/Documents/Formations/NLP/myenv/lib/python3.9/site-packages (from pandas) (2.8.2)\n",
      "Requirement already satisfied: six>=1.5 in /Users/ouafaekarmouda/Documents/Formations/NLP/myenv/lib/python3.9/site-packages (from python-dateutil>=2.8.2->pandas) (1.16.0)\n",
      "Note: you may need to restart the kernel to use updated packages.\n"
     ]
    }
   ],
   "source": [
    "pip install pandas"
   ]
  },
  {
   "cell_type": "code",
   "execution_count": 145,
   "id": "db03eb7c",
   "metadata": {},
   "outputs": [
    {
     "name": "stdout",
     "output_type": "stream",
     "text": [
      "Requirement already satisfied: spacy in /Users/ouafaekarmouda/Documents/Formations/NLP/myenv/lib/python3.9/site-packages (3.5.1)\n",
      "Requirement already satisfied: langcodes<4.0.0,>=3.2.0 in /Users/ouafaekarmouda/Documents/Formations/NLP/myenv/lib/python3.9/site-packages (from spacy) (3.3.0)\n",
      "Requirement already satisfied: preshed<3.1.0,>=3.0.2 in /Users/ouafaekarmouda/Documents/Formations/NLP/myenv/lib/python3.9/site-packages (from spacy) (3.0.8)\n",
      "Requirement already satisfied: spacy-loggers<2.0.0,>=1.0.0 in /Users/ouafaekarmouda/Documents/Formations/NLP/myenv/lib/python3.9/site-packages (from spacy) (1.0.4)\n",
      "Requirement already satisfied: catalogue<2.1.0,>=2.0.6 in /Users/ouafaekarmouda/Documents/Formations/NLP/myenv/lib/python3.9/site-packages (from spacy) (2.0.8)\n",
      "Requirement already satisfied: jinja2 in /Users/ouafaekarmouda/Documents/Formations/NLP/myenv/lib/python3.9/site-packages (from spacy) (3.1.2)\n",
      "Requirement already satisfied: numpy>=1.15.0 in /Users/ouafaekarmouda/Documents/Formations/NLP/myenv/lib/python3.9/site-packages (from spacy) (1.23.5)\n",
      "Requirement already satisfied: spacy-legacy<3.1.0,>=3.0.11 in /Users/ouafaekarmouda/Documents/Formations/NLP/myenv/lib/python3.9/site-packages (from spacy) (3.0.12)\n",
      "Requirement already satisfied: thinc<8.2.0,>=8.1.8 in /Users/ouafaekarmouda/Documents/Formations/NLP/myenv/lib/python3.9/site-packages (from spacy) (8.1.9)\n",
      "Requirement already satisfied: murmurhash<1.1.0,>=0.28.0 in /Users/ouafaekarmouda/Documents/Formations/NLP/myenv/lib/python3.9/site-packages (from spacy) (1.0.9)\n",
      "Requirement already satisfied: smart-open<7.0.0,>=5.2.1 in /Users/ouafaekarmouda/Documents/Formations/NLP/myenv/lib/python3.9/site-packages (from spacy) (6.3.0)\n",
      "Requirement already satisfied: pathy>=0.10.0 in /Users/ouafaekarmouda/Documents/Formations/NLP/myenv/lib/python3.9/site-packages (from spacy) (0.10.1)\n",
      "Requirement already satisfied: pydantic!=1.8,!=1.8.1,<1.11.0,>=1.7.4 in /Users/ouafaekarmouda/Documents/Formations/NLP/myenv/lib/python3.9/site-packages (from spacy) (1.10.7)\n",
      "Requirement already satisfied: requests<3.0.0,>=2.13.0 in /Users/ouafaekarmouda/Documents/Formations/NLP/myenv/lib/python3.9/site-packages (from spacy) (2.28.2)\n",
      "Requirement already satisfied: tqdm<5.0.0,>=4.38.0 in /Users/ouafaekarmouda/Documents/Formations/NLP/myenv/lib/python3.9/site-packages (from spacy) (4.65.0)\n",
      "Requirement already satisfied: cymem<2.1.0,>=2.0.2 in /Users/ouafaekarmouda/Documents/Formations/NLP/myenv/lib/python3.9/site-packages (from spacy) (2.0.7)\n",
      "Requirement already satisfied: wasabi<1.2.0,>=0.9.1 in /Users/ouafaekarmouda/Documents/Formations/NLP/myenv/lib/python3.9/site-packages (from spacy) (1.1.1)\n",
      "Requirement already satisfied: packaging>=20.0 in /Users/ouafaekarmouda/Documents/Formations/NLP/myenv/lib/python3.9/site-packages (from spacy) (23.0)\n",
      "Requirement already satisfied: setuptools in /Users/ouafaekarmouda/Documents/Formations/NLP/myenv/lib/python3.9/site-packages (from spacy) (58.1.0)\n",
      "Requirement already satisfied: typer<0.8.0,>=0.3.0 in /Users/ouafaekarmouda/Documents/Formations/NLP/myenv/lib/python3.9/site-packages (from spacy) (0.7.0)\n",
      "Requirement already satisfied: srsly<3.0.0,>=2.4.3 in /Users/ouafaekarmouda/Documents/Formations/NLP/myenv/lib/python3.9/site-packages (from spacy) (2.4.6)\n",
      "Requirement already satisfied: typing-extensions>=4.2.0 in /Users/ouafaekarmouda/Documents/Formations/NLP/myenv/lib/python3.9/site-packages (from pydantic!=1.8,!=1.8.1,<1.11.0,>=1.7.4->spacy) (4.5.0)\n",
      "Requirement already satisfied: idna<4,>=2.5 in /Users/ouafaekarmouda/Documents/Formations/NLP/myenv/lib/python3.9/site-packages (from requests<3.0.0,>=2.13.0->spacy) (3.4)\n",
      "Requirement already satisfied: urllib3<1.27,>=1.21.1 in /Users/ouafaekarmouda/Documents/Formations/NLP/myenv/lib/python3.9/site-packages (from requests<3.0.0,>=2.13.0->spacy) (1.26.15)\n",
      "Requirement already satisfied: charset-normalizer<4,>=2 in /Users/ouafaekarmouda/Documents/Formations/NLP/myenv/lib/python3.9/site-packages (from requests<3.0.0,>=2.13.0->spacy) (3.1.0)\n",
      "Requirement already satisfied: certifi>=2017.4.17 in /Users/ouafaekarmouda/Documents/Formations/NLP/myenv/lib/python3.9/site-packages (from requests<3.0.0,>=2.13.0->spacy) (2022.12.7)\n",
      "Requirement already satisfied: confection<1.0.0,>=0.0.1 in /Users/ouafaekarmouda/Documents/Formations/NLP/myenv/lib/python3.9/site-packages (from thinc<8.2.0,>=8.1.8->spacy) (0.0.4)\n",
      "Requirement already satisfied: blis<0.8.0,>=0.7.8 in /Users/ouafaekarmouda/Documents/Formations/NLP/myenv/lib/python3.9/site-packages (from thinc<8.2.0,>=8.1.8->spacy) (0.7.9)\n",
      "Requirement already satisfied: click<9.0.0,>=7.1.1 in /Users/ouafaekarmouda/Documents/Formations/NLP/myenv/lib/python3.9/site-packages (from typer<0.8.0,>=0.3.0->spacy) (8.1.3)\n",
      "Requirement already satisfied: MarkupSafe>=2.0 in /Users/ouafaekarmouda/Documents/Formations/NLP/myenv/lib/python3.9/site-packages (from jinja2->spacy) (2.1.2)\n",
      "Note: you may need to restart the kernel to use updated packages.\n"
     ]
    }
   ],
   "source": [
    "pip install spacy"
   ]
  },
  {
   "cell_type": "code",
   "execution_count": 146,
   "id": "be01e4a6",
   "metadata": {},
   "outputs": [],
   "source": [
    "from spacy.lang.en.stop_words import STOP_WORDS"
   ]
  },
  {
   "cell_type": "code",
   "execution_count": 147,
   "id": "e8bf71db",
   "metadata": {},
   "outputs": [],
   "source": [
    "pd.set_option('display.max_colwidth', None)"
   ]
  },
  {
   "cell_type": "code",
   "execution_count": null,
   "id": "49f588c3",
   "metadata": {},
   "outputs": [],
   "source": []
  },
  {
   "cell_type": "code",
   "execution_count": 148,
   "id": "2d758047",
   "metadata": {},
   "outputs": [],
   "source": [
    "nlp = spacy.load('en_core_web_sm')"
   ]
  },
  {
   "cell_type": "code",
   "execution_count": 149,
   "id": "0d6c7ff6",
   "metadata": {},
   "outputs": [],
   "source": [
    "#load the dataset\n",
    "df = pd.read_csv(\"IMDB Dataset.csv\")"
   ]
  },
  {
   "cell_type": "code",
   "execution_count": 150,
   "id": "1bf583da",
   "metadata": {},
   "outputs": [
    {
     "data": {
      "text/html": [
       "<div>\n",
       "<style scoped>\n",
       "    .dataframe tbody tr th:only-of-type {\n",
       "        vertical-align: middle;\n",
       "    }\n",
       "\n",
       "    .dataframe tbody tr th {\n",
       "        vertical-align: top;\n",
       "    }\n",
       "\n",
       "    .dataframe thead th {\n",
       "        text-align: right;\n",
       "    }\n",
       "</style>\n",
       "<table border=\"1\" class=\"dataframe\">\n",
       "  <thead>\n",
       "    <tr style=\"text-align: right;\">\n",
       "      <th></th>\n",
       "      <th>review</th>\n",
       "      <th>sentiment</th>\n",
       "    </tr>\n",
       "  </thead>\n",
       "  <tbody>\n",
       "    <tr>\n",
       "      <th>0</th>\n",
       "      <td>One of the other reviewers has mentioned that after watching just 1 Oz episode you'll be hooked. They are right, as this is exactly what happened with me.&lt;br /&gt;&lt;br /&gt;The first thing that struck me about Oz was its brutality and unflinching scenes of violence, which set in right from the word GO. Trust me, this is not a show for the faint hearted or timid. This show pulls no punches with regards to drugs, sex or violence. Its is hardcore, in the classic use of the word.&lt;br /&gt;&lt;br /&gt;It is called OZ as that is the nickname given to the Oswald Maximum Security State Penitentary. It focuses mainly on Emerald City, an experimental section of the prison where all the cells have glass fronts and face inwards, so privacy is not high on the agenda. Em City is home to many..Aryans, Muslims, gangstas, Latinos, Christians, Italians, Irish and more....so scuffles, death stares, dodgy dealings and shady agreements are never far away.&lt;br /&gt;&lt;br /&gt;I would say the main appeal of the show is due to the fact that it goes where other shows wouldn't dare. Forget pretty pictures painted for mainstream audiences, forget charm, forget romance...OZ doesn't mess around. The first episode I ever saw struck me as so nasty it was surreal, I couldn't say I was ready for it, but as I watched more, I developed a taste for Oz, and got accustomed to the high levels of graphic violence. Not just violence, but injustice (crooked guards who'll be sold out for a nickel, inmates who'll kill on order and get away with it, well mannered, middle class inmates being turned into prison bitches due to their lack of street skills or prison experience) Watching Oz, you may become comfortable with what is uncomfortable viewing....thats if you can get in touch with your darker side.</td>\n",
       "      <td>positive</td>\n",
       "    </tr>\n",
       "    <tr>\n",
       "      <th>1</th>\n",
       "      <td>A wonderful little production. &lt;br /&gt;&lt;br /&gt;The filming technique is very unassuming- very old-time-BBC fashion and gives a comforting, and sometimes discomforting, sense of realism to the entire piece. &lt;br /&gt;&lt;br /&gt;The actors are extremely well chosen- Michael Sheen not only \"has got all the polari\" but he has all the voices down pat too! You can truly see the seamless editing guided by the references to Williams' diary entries, not only is it well worth the watching but it is a terrificly written and performed piece. A masterful production about one of the great master's of comedy and his life. &lt;br /&gt;&lt;br /&gt;The realism really comes home with the little things: the fantasy of the guard which, rather than use the traditional 'dream' techniques remains solid then disappears. It plays on our knowledge and our senses, particularly with the scenes concerning Orton and Halliwell and the sets (particularly of their flat with Halliwell's murals decorating every surface) are terribly well done.</td>\n",
       "      <td>positive</td>\n",
       "    </tr>\n",
       "    <tr>\n",
       "      <th>2</th>\n",
       "      <td>I thought this was a wonderful way to spend time on a too hot summer weekend, sitting in the air conditioned theater and watching a light-hearted comedy. The plot is simplistic, but the dialogue is witty and the characters are likable (even the well bread suspected serial killer). While some may be disappointed when they realize this is not Match Point 2: Risk Addiction, I thought it was proof that Woody Allen is still fully in control of the style many of us have grown to love.&lt;br /&gt;&lt;br /&gt;This was the most I'd laughed at one of Woody's comedies in years (dare I say a decade?). While I've never been impressed with Scarlet Johanson, in this she managed to tone down her \"sexy\" image and jumped right into a average, but spirited young woman.&lt;br /&gt;&lt;br /&gt;This may not be the crown jewel of his career, but it was wittier than \"Devil Wears Prada\" and more interesting than \"Superman\" a great comedy to go see with friends.</td>\n",
       "      <td>positive</td>\n",
       "    </tr>\n",
       "    <tr>\n",
       "      <th>3</th>\n",
       "      <td>Basically there's a family where a little boy (Jake) thinks there's a zombie in his closet &amp; his parents are fighting all the time.&lt;br /&gt;&lt;br /&gt;This movie is slower than a soap opera... and suddenly, Jake decides to become Rambo and kill the zombie.&lt;br /&gt;&lt;br /&gt;OK, first of all when you're going to make a film you must Decide if its a thriller or a drama! As a drama the movie is watchable. Parents are divorcing &amp; arguing like in real life. And then we have Jake with his closet which totally ruins all the film! I expected to see a BOOGEYMAN similar movie, and instead i watched a drama with some meaningless thriller spots.&lt;br /&gt;&lt;br /&gt;3 out of 10 just for the well playing parents &amp; descent dialogs. As for the shots with Jake: just ignore them.</td>\n",
       "      <td>negative</td>\n",
       "    </tr>\n",
       "    <tr>\n",
       "      <th>4</th>\n",
       "      <td>Petter Mattei's \"Love in the Time of Money\" is a visually stunning film to watch. Mr. Mattei offers us a vivid portrait about human relations. This is a movie that seems to be telling us what money, power and success do to people in the different situations we encounter. &lt;br /&gt;&lt;br /&gt;This being a variation on the Arthur Schnitzler's play about the same theme, the director transfers the action to the present time New York where all these different characters meet and connect. Each one is connected in one way, or another to the next person, but no one seems to know the previous point of contact. Stylishly, the film has a sophisticated luxurious look. We are taken to see how these people live and the world they live in their own habitat.&lt;br /&gt;&lt;br /&gt;The only thing one gets out of all these souls in the picture is the different stages of loneliness each one inhabits. A big city is not exactly the best place in which human relations find sincere fulfillment, as one discerns is the case with most of the people we encounter.&lt;br /&gt;&lt;br /&gt;The acting is good under Mr. Mattei's direction. Steve Buscemi, Rosario Dawson, Carol Kane, Michael Imperioli, Adrian Grenier, and the rest of the talented cast, make these characters come alive.&lt;br /&gt;&lt;br /&gt;We wish Mr. Mattei good luck and await anxiously for his next work.</td>\n",
       "      <td>positive</td>\n",
       "    </tr>\n",
       "  </tbody>\n",
       "</table>\n",
       "</div>"
      ],
      "text/plain": [
       "                                                                                                                                                                                                                                                                                                                                                                                                                                                                                                                                                                                                                                                                                                                                                                                                                                                                                                                                                                                                                                                                                                                                                                                                                                                                                                                                                                                                                                                                                                                                                                                                                                                                                                                                                                                                                              review   \n",
       "0  One of the other reviewers has mentioned that after watching just 1 Oz episode you'll be hooked. They are right, as this is exactly what happened with me.<br /><br />The first thing that struck me about Oz was its brutality and unflinching scenes of violence, which set in right from the word GO. Trust me, this is not a show for the faint hearted or timid. This show pulls no punches with regards to drugs, sex or violence. Its is hardcore, in the classic use of the word.<br /><br />It is called OZ as that is the nickname given to the Oswald Maximum Security State Penitentary. It focuses mainly on Emerald City, an experimental section of the prison where all the cells have glass fronts and face inwards, so privacy is not high on the agenda. Em City is home to many..Aryans, Muslims, gangstas, Latinos, Christians, Italians, Irish and more....so scuffles, death stares, dodgy dealings and shady agreements are never far away.<br /><br />I would say the main appeal of the show is due to the fact that it goes where other shows wouldn't dare. Forget pretty pictures painted for mainstream audiences, forget charm, forget romance...OZ doesn't mess around. The first episode I ever saw struck me as so nasty it was surreal, I couldn't say I was ready for it, but as I watched more, I developed a taste for Oz, and got accustomed to the high levels of graphic violence. Not just violence, but injustice (crooked guards who'll be sold out for a nickel, inmates who'll kill on order and get away with it, well mannered, middle class inmates being turned into prison bitches due to their lack of street skills or prison experience) Watching Oz, you may become comfortable with what is uncomfortable viewing....thats if you can get in touch with your darker side.  \\\n",
       "1                                                                                                                                                                                                                                                                                                                                                                                                                                                                                                                                                                                                                                                                                                                                                                                             A wonderful little production. <br /><br />The filming technique is very unassuming- very old-time-BBC fashion and gives a comforting, and sometimes discomforting, sense of realism to the entire piece. <br /><br />The actors are extremely well chosen- Michael Sheen not only \"has got all the polari\" but he has all the voices down pat too! You can truly see the seamless editing guided by the references to Williams' diary entries, not only is it well worth the watching but it is a terrificly written and performed piece. A masterful production about one of the great master's of comedy and his life. <br /><br />The realism really comes home with the little things: the fantasy of the guard which, rather than use the traditional 'dream' techniques remains solid then disappears. It plays on our knowledge and our senses, particularly with the scenes concerning Orton and Halliwell and the sets (particularly of their flat with Halliwell's murals decorating every surface) are terribly well done.   \n",
       "2                                                                                                                                                                                                                                                                                                                                                                                                                                                                                                                                                                                                                                                                                                                                                                                                                                                                     I thought this was a wonderful way to spend time on a too hot summer weekend, sitting in the air conditioned theater and watching a light-hearted comedy. The plot is simplistic, but the dialogue is witty and the characters are likable (even the well bread suspected serial killer). While some may be disappointed when they realize this is not Match Point 2: Risk Addiction, I thought it was proof that Woody Allen is still fully in control of the style many of us have grown to love.<br /><br />This was the most I'd laughed at one of Woody's comedies in years (dare I say a decade?). While I've never been impressed with Scarlet Johanson, in this she managed to tone down her \"sexy\" image and jumped right into a average, but spirited young woman.<br /><br />This may not be the crown jewel of his career, but it was wittier than \"Devil Wears Prada\" and more interesting than \"Superman\" a great comedy to go see with friends.   \n",
       "3                                                                                                                                                                                                                                                                                                                                                                                                                                                                                                                                                                                                                                                                                                                                                                                                                                                                                                                                                                                                                                                       Basically there's a family where a little boy (Jake) thinks there's a zombie in his closet & his parents are fighting all the time.<br /><br />This movie is slower than a soap opera... and suddenly, Jake decides to become Rambo and kill the zombie.<br /><br />OK, first of all when you're going to make a film you must Decide if its a thriller or a drama! As a drama the movie is watchable. Parents are divorcing & arguing like in real life. And then we have Jake with his closet which totally ruins all the film! I expected to see a BOOGEYMAN similar movie, and instead i watched a drama with some meaningless thriller spots.<br /><br />3 out of 10 just for the well playing parents & descent dialogs. As for the shots with Jake: just ignore them.   \n",
       "4                                                                                                                                                                                                                                                                                                                                                                                                                                                              Petter Mattei's \"Love in the Time of Money\" is a visually stunning film to watch. Mr. Mattei offers us a vivid portrait about human relations. This is a movie that seems to be telling us what money, power and success do to people in the different situations we encounter. <br /><br />This being a variation on the Arthur Schnitzler's play about the same theme, the director transfers the action to the present time New York where all these different characters meet and connect. Each one is connected in one way, or another to the next person, but no one seems to know the previous point of contact. Stylishly, the film has a sophisticated luxurious look. We are taken to see how these people live and the world they live in their own habitat.<br /><br />The only thing one gets out of all these souls in the picture is the different stages of loneliness each one inhabits. A big city is not exactly the best place in which human relations find sincere fulfillment, as one discerns is the case with most of the people we encounter.<br /><br />The acting is good under Mr. Mattei's direction. Steve Buscemi, Rosario Dawson, Carol Kane, Michael Imperioli, Adrian Grenier, and the rest of the talented cast, make these characters come alive.<br /><br />We wish Mr. Mattei good luck and await anxiously for his next work.   \n",
       "\n",
       "  sentiment  \n",
       "0  positive  \n",
       "1  positive  \n",
       "2  positive  \n",
       "3  negative  \n",
       "4  positive  "
      ]
     },
     "execution_count": 150,
     "metadata": {},
     "output_type": "execute_result"
    }
   ],
   "source": [
    "df.head()"
   ]
  },
  {
   "cell_type": "code",
   "execution_count": 151,
   "id": "fc4928c6",
   "metadata": {},
   "outputs": [
    {
     "data": {
      "text/plain": [
       "(50000, 2)"
      ]
     },
     "execution_count": 151,
     "metadata": {},
     "output_type": "execute_result"
    }
   ],
   "source": [
    "df.shape"
   ]
  },
  {
   "cell_type": "code",
   "execution_count": 152,
   "id": "c17dac37",
   "metadata": {},
   "outputs": [],
   "source": [
    "#Remove unecessary characters"
   ]
  },
  {
   "cell_type": "code",
   "execution_count": 153,
   "id": "6e0a9322",
   "metadata": {},
   "outputs": [],
   "source": [
    "df['review'] = df['review'].apply(lambda x: re.sub(r'[^\\w\\s]', '', x))"
   ]
  },
  {
   "cell_type": "code",
   "execution_count": 154,
   "id": "6c5c79ae",
   "metadata": {},
   "outputs": [
    {
     "data": {
      "text/plain": [
       "review       One of the other reviewers has mentioned that after watching just 1 Oz episode youll be hooked They are right as this is exactly what happened with mebr br The first thing that struck me about Oz was its brutality and unflinching scenes of violence which set in right from the word GO Trust me this is not a show for the faint hearted or timid This show pulls no punches with regards to drugs sex or violence Its is hardcore in the classic use of the wordbr br It is called OZ as that is the nickname given to the Oswald Maximum Security State Penitentary It focuses mainly on Emerald City an experimental section of the prison where all the cells have glass fronts and face inwards so privacy is not high on the agenda Em City is home to manyAryans Muslims gangstas Latinos Christians Italians Irish and moreso scuffles death stares dodgy dealings and shady agreements are never far awaybr br I would say the main appeal of the show is due to the fact that it goes where other shows wouldnt dare Forget pretty pictures painted for mainstream audiences forget charm forget romanceOZ doesnt mess around The first episode I ever saw struck me as so nasty it was surreal I couldnt say I was ready for it but as I watched more I developed a taste for Oz and got accustomed to the high levels of graphic violence Not just violence but injustice crooked guards wholl be sold out for a nickel inmates wholl kill on order and get away with it well mannered middle class inmates being turned into prison bitches due to their lack of street skills or prison experience Watching Oz you may become comfortable with what is uncomfortable viewingthats if you can get in touch with your darker side\n",
       "sentiment                                                                                                                                                                                                                                                                                                                                                                                                                                                                                                                                                                                                                                                                                                                                                                                                                                                                                                                                                                                                                                                                                                                                                                                                                                                                                                                                                                                                                                                                                                                                                                                                                                                                                                                                               positive\n",
       "Name: 0, dtype: object"
      ]
     },
     "execution_count": 154,
     "metadata": {},
     "output_type": "execute_result"
    }
   ],
   "source": [
    "df.iloc[0]"
   ]
  },
  {
   "cell_type": "code",
   "execution_count": 155,
   "id": "2dba3d73",
   "metadata": {},
   "outputs": [],
   "source": [
    "# convert all text to lowercase\n",
    "df['review'] = df['review'].apply(lambda x: x.lower())"
   ]
  },
  {
   "cell_type": "code",
   "execution_count": 156,
   "id": "0ff0f68c",
   "metadata": {},
   "outputs": [
    {
     "data": {
      "text/plain": [
       "review       one of the other reviewers has mentioned that after watching just 1 oz episode youll be hooked they are right as this is exactly what happened with mebr br the first thing that struck me about oz was its brutality and unflinching scenes of violence which set in right from the word go trust me this is not a show for the faint hearted or timid this show pulls no punches with regards to drugs sex or violence its is hardcore in the classic use of the wordbr br it is called oz as that is the nickname given to the oswald maximum security state penitentary it focuses mainly on emerald city an experimental section of the prison where all the cells have glass fronts and face inwards so privacy is not high on the agenda em city is home to manyaryans muslims gangstas latinos christians italians irish and moreso scuffles death stares dodgy dealings and shady agreements are never far awaybr br i would say the main appeal of the show is due to the fact that it goes where other shows wouldnt dare forget pretty pictures painted for mainstream audiences forget charm forget romanceoz doesnt mess around the first episode i ever saw struck me as so nasty it was surreal i couldnt say i was ready for it but as i watched more i developed a taste for oz and got accustomed to the high levels of graphic violence not just violence but injustice crooked guards wholl be sold out for a nickel inmates wholl kill on order and get away with it well mannered middle class inmates being turned into prison bitches due to their lack of street skills or prison experience watching oz you may become comfortable with what is uncomfortable viewingthats if you can get in touch with your darker side\n",
       "sentiment                                                                                                                                                                                                                                                                                                                                                                                                                                                                                                                                                                                                                                                                                                                                                                                                                                                                                                                                                                                                                                                                                                                                                                                                                                                                                                                                                                                                                                                                                                                                                                                                                                                                                                                                               positive\n",
       "Name: 0, dtype: object"
      ]
     },
     "execution_count": 156,
     "metadata": {},
     "output_type": "execute_result"
    }
   ],
   "source": [
    "df.iloc[0]"
   ]
  },
  {
   "cell_type": "code",
   "execution_count": 157,
   "id": "5f4646d5",
   "metadata": {},
   "outputs": [],
   "source": [
    "#Remove stop words\n",
    "stop_words = set(STOP_WORDS)\n",
    "df['review'] = df['review'].apply(lambda x: ' '.join([word for word in x.split() if word not in stop_words]))"
   ]
  },
  {
   "cell_type": "code",
   "execution_count": 158,
   "id": "452a982a",
   "metadata": {},
   "outputs": [],
   "source": [
    "#Process the clean text using spacy\n",
    "docs = list(nlp.pipe(df['review'], batch_size = 1000))"
   ]
  },
  {
   "cell_type": "code",
   "execution_count": 159,
   "id": "c404d613",
   "metadata": {},
   "outputs": [
    {
     "data": {
      "text/plain": [
       "50000"
      ]
     },
     "execution_count": 159,
     "metadata": {},
     "output_type": "execute_result"
    }
   ],
   "source": [
    "len(docs)"
   ]
  },
  {
   "cell_type": "code",
   "execution_count": 160,
   "id": "5b85a38d",
   "metadata": {},
   "outputs": [],
   "source": [
    "# Convert all text to lowercase\n",
    "df['review'] = df['review'].apply(lambda x: x.lower())\n",
    "\n",
    "# Remove stop words\n",
    "stop_words = set(STOP_WORDS)\n",
    "df['review'] = df['review'].apply(lambda x: ' '.join([word for word in x.split() if word not in stop_words]))\n",
    "\n",
    "# Process the cleaned text data using spacy\n",
    "docs = list(nlp.pipe(df['review'], batch_size=1000))"
   ]
  },
  {
   "cell_type": "code",
   "execution_count": 161,
   "id": "5e79dd28",
   "metadata": {},
   "outputs": [
    {
     "name": "stdout",
     "output_type": "stream",
     "text": [
      "Total counts in all the documents 5518595\n"
     ]
    }
   ],
   "source": [
    "# Count the number of tokens in each doc\n",
    "\n",
    "n_tokens = [len(doc) for doc in docs]\n",
    "print(f\"Total counts in all the documents {sum(n_tokens)}\")"
   ]
  },
  {
   "cell_type": "code",
   "execution_count": 162,
   "id": "a2252e0c",
   "metadata": {},
   "outputs": [],
   "source": [
    "# number of sentences in each doc\n",
    "n_sentences = [len(list(doc.sents)) for doc in docs]"
   ]
  },
  {
   "cell_type": "code",
   "execution_count": 163,
   "id": "9ce17c2a",
   "metadata": {},
   "outputs": [
    {
     "data": {
      "text/plain": [
       "wonderful little production br br filming technique unassuming oldtimebbc fashion gives comforting discomforting sense realism entire piece br br actors extremely chosen michael sheen got polari voices pat truly seamless editing guided references williams diary entries worth watching terrificly written performed piece masterful production great masters comedy life br br realism comes home little things fantasy guard use traditional dream techniques remains solid disappears plays knowledge senses particularly scenes concerning orton halliwell sets particularly flat halliwells murals decorating surface terribly"
      ]
     },
     "execution_count": 163,
     "metadata": {},
     "output_type": "execute_result"
    }
   ],
   "source": [
    "# print the first sentence of the second doc\n",
    "list(list(docs)[1].sents)[0]"
   ]
  },
  {
   "cell_type": "code",
   "execution_count": 164,
   "id": "95e1ffba",
   "metadata": {},
   "outputs": [
    {
     "name": "stdout",
     "output_type": "stream",
     "text": [
      "reviewers NOUN         783433942507015291 reviewer                           \n",
      "mentioned VERB       17109001835818727656 mention                            \n",
      "watching VERB        1534113631682161808 watch                              \n",
      "1        NUM         8427216679587749980 1                                  \n",
      "oz       NOUN       15308085513773655218 oz                                 \n",
      "episode  NOUN       15308085513773655218 episode                            \n",
      "you      PRON       13656873538139661788 you                                \n",
      "ll       AUX        16235386156175103506 ll                                 \n",
      "hooked   VERB       14200088355797579614 hooked                             \n",
      "right    ADV          164681854541413346 right                              \n",
      "exactly  ADV          164681854541413346 exactly                            \n",
      "happened VERB        3822385049556375858 happen                             \n",
      "mebr     NOUN       15308085513773655218 mebr                               \n",
      "br       PROPN      15794550382381185553 br                                 \n",
      "thing    NOUN       15308085513773655218 thing                              \n",
      "struck   VERB        3822385049556375858 strike                             \n",
      "oz       ADP         1292078113972184607 oz                                 \n",
      "brutality NOUN       15308085513773655218 brutality                          \n",
      "unflinching VERB        1534113631682161808 unflinche                          \n",
      "scenes   NOUN         783433942507015291 scene                              \n",
      "violence NOUN       15308085513773655218 violence                           \n",
      "set      VERB       17109001835818727656 set                                \n",
      "right    ADJ        10554686591937588953 right                              \n",
      "word     NOUN       15308085513773655218 word                               \n",
      "trust    NOUN       15308085513773655218 trust                              \n",
      "faint    NOUN       15308085513773655218 faint                              \n",
      "hearted  ADJ        10554686591937588953 hearted                            \n",
      "timid    ADJ        10554686591937588953 timid                              \n",
      "pulls    NOUN         783433942507015291 pull                               \n",
      "punches  NOUN         783433942507015291 punch                              \n",
      "regards  VERB       13927759927860985106 regard                             \n",
      "drugs    NOUN         783433942507015291 drug                               \n",
      "sex      NOUN       15308085513773655218 sex                                \n",
      "violence NOUN       15308085513773655218 violence                           \n",
      "hardcore NOUN       15308085513773655218 hardcore                           \n",
      "classic  ADJ        10554686591937588953 classic                            \n",
      "use      NOUN       15308085513773655218 use                                \n",
      "wordbr   PROPN      15794550382381185553 wordbr                             \n",
      "br       PRON       13656873538139661788 br                                 \n",
      "called   VERB        3822385049556375858 call                               \n",
      "oz       ADP         1292078113972184607 oz                                 \n",
      "nickname NOUN       15308085513773655218 nickname                           \n",
      "given    VERB        3822385049556375858 give                               \n",
      "oswald   ADJ        10554686591937588953 oswald                             \n",
      "maximum  ADJ        10554686591937588953 maximum                            \n",
      "security NOUN       15308085513773655218 security                           \n",
      "state    NOUN       15308085513773655218 state                              \n",
      "penitentary NOUN       15308085513773655218 penitentary                        \n",
      "focuses  VERB       13927759927860985106 focus                              \n",
      "mainly   ADV          164681854541413346 mainly                             \n",
      "emerald  PROPN      15794550382381185553 emerald                            \n",
      "city     PROPN      15794550382381185553 city                               \n",
      "experimental PROPN      15794550382381185553 experimental                       \n",
      "section  NOUN       15308085513773655218 section                            \n",
      "prison   NOUN       15308085513773655218 prison                             \n",
      "cells    NOUN         783433942507015291 cell                               \n",
      "glass    NOUN       15308085513773655218 glass                              \n",
      "fronts   NOUN         783433942507015291 front                              \n",
      "face     VERB        9188597074677201817 face                               \n",
      "inwards  NOUN         783433942507015291 inward                             \n",
      "privacy  NOUN       15308085513773655218 privacy                            \n",
      "high     ADJ        10554686591937588953 high                               \n",
      "agenda   NOUN       15308085513773655218 agenda                             \n",
      "em       PROPN      15794550382381185553 em                                 \n",
      "city     PROPN      15794550382381185553 city                               \n",
      "home     NOUN       15308085513773655218 home                               \n",
      "manyaryans PROPN      11233576250605462493 manyaryans                         \n",
      "muslims  VERB       13927759927860985106 muslim                             \n",
      "gangstas PROPN      15794550382381185553 gangstas                           \n",
      "latinos  PROPN      15794550382381185553 latinos                            \n",
      "christians PROPN      11233576250605462493 christians                         \n",
      "italians VERB       13927759927860985106 italian                            \n",
      "irish    ADJ        10554686591937588953 irish                              \n",
      "moreso   NOUN       15308085513773655218 moreso                             \n",
      "scuffles VERB       13927759927860985106 scuffle                            \n",
      "death    NOUN       15308085513773655218 death                              \n",
      "stares   VERB       13927759927860985106 stare                              \n",
      "dodgy    ADJ        10554686591937588953 dodgy                              \n",
      "dealings NOUN         783433942507015291 dealing                            \n",
      "shady    ADJ        10554686591937588953 shady                              \n",
      "agreements NOUN         783433942507015291 agreement                          \n",
      "far      ADV          164681854541413346 far                                \n",
      "awaybr   PROPN      15794550382381185553 awaybr                             \n",
      "br       PROPN      15794550382381185553 br                                 \n",
      "main     ADJ        10554686591937588953 main                               \n",
      "appeal   NOUN       15308085513773655218 appeal                             \n",
      "fact     NOUN       15308085513773655218 fact                               \n",
      "goes     VERB       13927759927860985106 go                                 \n",
      "shows    NOUN         783433942507015291 show                               \n",
      "would    AUX        16235386156175103506 would                              \n",
      "nt       PART         164681854541413346 not                                \n",
      "dare     VERB       14200088355797579614 dare                               \n",
      "forget   VERB       14200088355797579614 forget                             \n",
      "pretty   ADJ        10554686591937588953 pretty                             \n",
      "pictures NOUN         783433942507015291 picture                            \n",
      "painted  VERB       17109001835818727656 paint                              \n",
      "mainstream NOUN       15308085513773655218 mainstream                         \n",
      "audiences NOUN         783433942507015291 audience                           \n",
      "forget   VERB        9188597074677201817 forget                             \n",
      "charm    NOUN       15308085513773655218 charm                              \n",
      "forget   PROPN      15794550382381185553 forget                             \n",
      "romanceoz NOUN         783433942507015291 romanceoz                          \n",
      "does     AUX        13927759927860985106 do                                 \n",
      "nt       PART         164681854541413346 not                                \n",
      "mess     NOUN       15308085513773655218 mess                               \n",
      "episode  NOUN       15308085513773655218 episode                            \n",
      "saw      VERB       17109001835818727656 see                                \n",
      "struck   VERB       17109001835818727656 strike                             \n",
      "nasty    ADJ        10554686591937588953 nasty                              \n",
      "surreal  ADJ        10554686591937588953 surreal                            \n",
      "could    AUX        16235386156175103506 could                              \n",
      "nt       PART         164681854541413346 not                                \n",
      "ready    ADJ        10554686591937588953 ready                              \n",
      "watched  VERB        3822385049556375858 watch                              \n",
      "developed VERB        3822385049556375858 develop                            \n",
      "taste    NOUN       15308085513773655218 taste                              \n",
      "oz       PART        5595707737748328492 oz                                 \n",
      "got      VERB       17109001835818727656 get                                \n",
      "accustomed VERB        3822385049556375858 accustom                           \n",
      "high     ADJ        10554686591937588953 high                               \n",
      "levels   NOUN         783433942507015291 level                              \n",
      "graphic  ADJ        10554686591937588953 graphic                            \n",
      "violence NOUN       15308085513773655218 violence                           \n",
      "violence NOUN       15308085513773655218 violence                           \n",
      "injustice NOUN       15308085513773655218 injustice                          \n",
      "crooked  VERB        3822385049556375858 crook                              \n",
      "guards   NOUN         783433942507015291 guard                              \n",
      "who      PRON        4808651922106831370 who                                \n",
      "ll       AUX        16235386156175103506 ll                                 \n",
      "sold     VERB        3822385049556375858 sell                               \n",
      "nickel   NOUN       15308085513773655218 nickel                             \n",
      "inmates  NOUN         783433942507015291 inmate                             \n",
      "who      PRON        4808651922106831370 who                                \n",
      "ll       AUX        16235386156175103506 ll                                 \n",
      "kill     VERB       14200088355797579614 kill                               \n",
      "order    NOUN       15308085513773655218 order                              \n",
      "away     ADV          164681854541413346 away                               \n",
      "mannered ADJ        10554686591937588953 mannered                           \n",
      "middle   ADJ        10554686591937588953 middle                             \n",
      "class    NOUN       15308085513773655218 class                              \n",
      "inmates  NOUN         783433942507015291 inmate                             \n",
      "turned   VERB       17109001835818727656 turn                               \n",
      "prison   NOUN       15308085513773655218 prison                             \n",
      "bitches  NOUN         783433942507015291 bitch                              \n",
      "lack     VERB        9188597074677201817 lack                               \n",
      "street   NOUN       15308085513773655218 street                             \n",
      "skills   NOUN         783433942507015291 skill                              \n",
      "prison   NOUN       15308085513773655218 prison                             \n",
      "experience NOUN       15308085513773655218 experience                         \n",
      "watching VERB        1534113631682161808 watch                              \n",
      "oz       ADP         1292078113972184607 oz                                 \n",
      "comfortable ADJ        10554686591937588953 comfortable                        \n",
      "uncomfortable ADJ        10554686591937588953 uncomfortable                      \n",
      "viewingthats NOUN         783433942507015291 viewingthat                        \n",
      "touch    VERB        9188597074677201817 touch                              \n",
      "darker   NOUN       15308085513773655218 darker                             \n"
     ]
    }
   ],
   "source": [
    "for token in list(list(docs)[0].sents)[0]:\n",
    "    print(f\"{token.text:{8}} {token.pos_:{10}} {token.tag:{20}} {token.lemma_:{35}}\")"
   ]
  },
  {
   "cell_type": "code",
   "execution_count": 165,
   "id": "84b717c0",
   "metadata": {},
   "outputs": [],
   "source": [
    "from sklearn.feature_extraction.text import TfidfVectorizer\n"
   ]
  },
  {
   "cell_type": "code",
   "execution_count": 166,
   "id": "26f232e5",
   "metadata": {},
   "outputs": [],
   "source": [
    "vectorizer = TfidfVectorizer(stop_words='english')"
   ]
  },
  {
   "cell_type": "code",
   "execution_count": 167,
   "id": "502355a9",
   "metadata": {},
   "outputs": [],
   "source": [
    "df_vector = vectorizer.fit_transform(df['review'])"
   ]
  },
  {
   "cell_type": "code",
   "execution_count": 168,
   "id": "b41c2f59",
   "metadata": {},
   "outputs": [
    {
     "data": {
      "text/plain": [
       "(50000, 180691)"
      ]
     },
     "execution_count": 168,
     "metadata": {},
     "output_type": "execute_result"
    }
   ],
   "source": [
    "df_vector.toarray().shape"
   ]
  },
  {
   "cell_type": "code",
   "execution_count": 169,
   "id": "f5a20fbe",
   "metadata": {},
   "outputs": [],
   "source": [
    "X, y = df['review'], df['sentiment']"
   ]
  },
  {
   "cell_type": "code",
   "execution_count": 170,
   "id": "0b0f7f28",
   "metadata": {},
   "outputs": [],
   "source": [
    "y = y.replace({'positive':1, 'negative':0})"
   ]
  },
  {
   "cell_type": "code",
   "execution_count": 171,
   "id": "031b2363",
   "metadata": {},
   "outputs": [],
   "source": [
    "# Train test split data\n",
    "X_train, X_test, y_train, y_test= train_test_split(X, y, test_size = 0.2, random_state = 1)"
   ]
  },
  {
   "cell_type": "code",
   "execution_count": 172,
   "id": "ba65a117",
   "metadata": {},
   "outputs": [
    {
     "data": {
      "text/plain": [
       "((40000,), (10000,), (40000,), (10000,))"
      ]
     },
     "execution_count": 172,
     "metadata": {},
     "output_type": "execute_result"
    }
   ],
   "source": [
    "X_train.shape, X_test.shape, y_train.shape, y_test.shape"
   ]
  },
  {
   "cell_type": "code",
   "execution_count": 173,
   "id": "c49a49ab",
   "metadata": {},
   "outputs": [],
   "source": [
    "vectorizer = TfidfVectorizer(max_features=3500, ngram_range=(1,3))"
   ]
  },
  {
   "cell_type": "code",
   "execution_count": 174,
   "id": "b49bbb98",
   "metadata": {},
   "outputs": [],
   "source": [
    "X_train_tfidf = vectorizer.fit_transform(X_train)\n",
    "X_test_tfidf = vectorizer.fit_transform(X_test)"
   ]
  },
  {
   "cell_type": "code",
   "execution_count": 175,
   "id": "e7ba5bb7",
   "metadata": {},
   "outputs": [
    {
     "data": {
      "text/plain": [
       "((40000, 3500), (10000, 3500))"
      ]
     },
     "execution_count": 175,
     "metadata": {},
     "output_type": "execute_result"
    }
   ],
   "source": [
    "X_train_tfidf.shape, X_test_tfidf.shape"
   ]
  },
  {
   "cell_type": "markdown",
   "id": "3f87eb32",
   "metadata": {},
   "source": [
    "## Neural Network Modelling"
   ]
  },
  {
   "cell_type": "code",
   "execution_count": 176,
   "id": "80856cf5",
   "metadata": {},
   "outputs": [],
   "source": [
    "import keras\n",
    "from keras.models import Sequential\n",
    "from keras.layers import Dense, Dropout"
   ]
  },
  {
   "cell_type": "code",
   "execution_count": 177,
   "id": "35647b0f",
   "metadata": {},
   "outputs": [],
   "source": [
    "import tensorflow\n"
   ]
  },
  {
   "cell_type": "code",
   "execution_count": 184,
   "id": "1ceaf538",
   "metadata": {},
   "outputs": [],
   "source": [
    "# Defining the model\n",
    "model = Sequential()\n",
    "model.add(Dense(20, input_shape = (X_train_tfidf.shape[1],), activation='relu'))\n",
    "#model.add(Dropout(0.3))\n",
    "model.add(Dense(1, activation='relu'))\n",
    "\n",
    "#Compile the model\n",
    "model.compile(loss='binary_crossentropy', optimizer='adam', metrics=['accuracy'])"
   ]
  },
  {
   "cell_type": "code",
   "execution_count": 185,
   "id": "8f4caa0d",
   "metadata": {},
   "outputs": [],
   "source": [
    "callbacks_list = [keras.callbacks.ModelCheckpoint(\n",
    "                                    filepath ='model',\n",
    "                                    monitor='val_loss',\n",
    "                                    save_best_only=True,\n",
    "                                    verbose=1),\n",
    "                 keras.callbacks.EarlyStopping(monitor='val_loss', \n",
    "                                               patience=10, \n",
    "                                               verbose=1)]"
   ]
  },
  {
   "cell_type": "code",
   "execution_count": 186,
   "id": "f8f05ead",
   "metadata": {},
   "outputs": [
    {
     "name": "stdout",
     "output_type": "stream",
     "text": [
      "Epoch 1/20\n",
      "1194/1250 [===========================>..] - ETA: 0s - loss: 0.4987 - accuracy: 0.7930\n",
      "Epoch 1: val_loss improved from inf to 1.32775, saving model to model\n",
      "INFO:tensorflow:Assets written to: model/assets\n",
      "1250/1250 [==============================] - 1s 875us/step - loss: 0.4918 - accuracy: 0.7970 - val_loss: 1.3278 - val_accuracy: 0.5614\n",
      "Epoch 2/20\n",
      "1155/1250 [==========================>...] - ETA: 0s - loss: 0.3712 - accuracy: 0.8802\n",
      "Epoch 2: val_loss did not improve from 1.32775\n",
      "1250/1250 [==============================] - 1s 613us/step - loss: 0.3759 - accuracy: 0.8791 - val_loss: 1.8248 - val_accuracy: 0.5606\n",
      "Epoch 3/20\n",
      "1172/1250 [===========================>..] - ETA: 0s - loss: 0.3527 - accuracy: 0.8867\n",
      "Epoch 3: val_loss did not improve from 1.32775\n",
      "1250/1250 [==============================] - 1s 604us/step - loss: 0.3540 - accuracy: 0.8861 - val_loss: 1.9582 - val_accuracy: 0.5567\n",
      "Epoch 4/20\n",
      "1186/1250 [===========================>..] - ETA: 0s - loss: 0.3371 - accuracy: 0.8896\n",
      "Epoch 4: val_loss did not improve from 1.32775\n",
      "1250/1250 [==============================] - 1s 637us/step - loss: 0.3390 - accuracy: 0.8896 - val_loss: 2.2236 - val_accuracy: 0.5574\n",
      "Epoch 5/20\n",
      "1153/1250 [==========================>...] - ETA: 0s - loss: 0.3234 - accuracy: 0.8942\n",
      "Epoch 5: val_loss did not improve from 1.32775\n",
      "1250/1250 [==============================] - 1s 609us/step - loss: 0.3267 - accuracy: 0.8938 - val_loss: 2.3069 - val_accuracy: 0.5581\n",
      "Epoch 6/20\n",
      "1205/1250 [===========================>..] - ETA: 0s - loss: 0.3171 - accuracy: 0.8954\n",
      "Epoch 6: val_loss did not improve from 1.32775\n",
      "1250/1250 [==============================] - 1s 589us/step - loss: 0.3181 - accuracy: 0.8950 - val_loss: 2.3999 - val_accuracy: 0.5576\n",
      "Epoch 7/20\n",
      "1222/1250 [============================>.] - ETA: 0s - loss: 0.3112 - accuracy: 0.8981\n",
      "Epoch 7: val_loss did not improve from 1.32775\n",
      "1250/1250 [==============================] - 1s 666us/step - loss: 0.3117 - accuracy: 0.8980 - val_loss: 2.6283 - val_accuracy: 0.5550\n",
      "Epoch 8/20\n",
      "1195/1250 [===========================>..] - ETA: 0s - loss: 0.3043 - accuracy: 0.8992\n",
      "Epoch 8: val_loss did not improve from 1.32775\n",
      "1250/1250 [==============================] - 1s 594us/step - loss: 0.3043 - accuracy: 0.8995 - val_loss: 2.5925 - val_accuracy: 0.5637\n",
      "Epoch 9/20\n",
      "1200/1250 [===========================>..] - ETA: 0s - loss: 0.2936 - accuracy: 0.9040\n",
      "Epoch 9: val_loss did not improve from 1.32775\n",
      "1250/1250 [==============================] - 1s 591us/step - loss: 0.2934 - accuracy: 0.9040 - val_loss: 2.9503 - val_accuracy: 0.5550\n",
      "Epoch 10/20\n",
      "1206/1250 [===========================>..] - ETA: 0s - loss: 0.2817 - accuracy: 0.9116\n",
      "Epoch 10: val_loss did not improve from 1.32775\n",
      "1250/1250 [==============================] - 1s 605us/step - loss: 0.2810 - accuracy: 0.9121 - val_loss: 3.1557 - val_accuracy: 0.5567\n",
      "Epoch 11/20\n",
      "1224/1250 [============================>.] - ETA: 0s - loss: 0.2832 - accuracy: 0.9161\n",
      "Epoch 11: val_loss did not improve from 1.32775\n",
      "1250/1250 [==============================] - 1s 664us/step - loss: 0.2832 - accuracy: 0.9160 - val_loss: 3.0762 - val_accuracy: 0.5563\n",
      "Epoch 11: early stopping\n"
     ]
    }
   ],
   "source": [
    "history = model.fit(X_train_tfidf.toarray(), y_train,\n",
    "                   epochs=20,\n",
    "                   verbose=1, \n",
    "                   callbacks=callbacks_list,\n",
    "                   validation_data = (X_test_tfidf.toarray(), y_test))"
   ]
  },
  {
   "cell_type": "code",
   "execution_count": 181,
   "id": "5cb05e88",
   "metadata": {},
   "outputs": [],
   "source": [
    "import matplotlib.pyplot as plt"
   ]
  },
  {
   "cell_type": "code",
   "execution_count": 182,
   "id": "9db4ed86",
   "metadata": {},
   "outputs": [],
   "source": [
    "acc = history.history['accuracy']\n",
    "val_acc = history.history['val_accuracy']"
   ]
  },
  {
   "cell_type": "code",
   "execution_count": 183,
   "id": "8efd8b18",
   "metadata": {},
   "outputs": [
    {
     "data": {
      "image/png": "[encoded data removed]",
      "text/plain": [
       "<Figure size 640x480 with 1 Axes>"
      ]
     },
     "metadata": {},
     "output_type": "display_data"
    }
   ],
   "source": [
    "plt.plot(acc, label='Training Accuracy')\n",
    "plt.plot(val_acc, label='Validation Accuracy')\n",
    "plt.title('Accuracy Curves')\n",
    "plt.xlabel('Epoch')\n",
    "plt.ylabel('Accuracy')\n",
    "plt.legend()\n",
    "plt.show()"
   ]
  },
  {
   "cell_type": "code",
   "execution_count": null,
   "id": "dc8e8aa8",
   "metadata": {},
   "outputs": [],
   "source": []
  }
 ],
 "metadata": {
  "kernelspec": {
   "display_name": "myenv",
   "language": "python",
   "name": "myenv"
  },
  "language_info": {
   "codemirror_mode": {
    "name": "ipython",
    "version": 3
   },
   "file_extension": ".py",
   "mimetype": "text/x-python",
   "name": "python",
   "nbconvert_exporter": "python",
   "pygments_lexer": "ipython3",
   "version": "3.9.13"
  }
 },
 "nbformat": 4,
 "nbformat_minor": 5
}
